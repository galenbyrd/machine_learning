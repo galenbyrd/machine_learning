{
 "cells": [
  {
   "cell_type": "markdown",
   "metadata": {},
   "source": [
    "# Getting Python\n",
    "\n",
    "\n",
    "For this course, we are going to use Jupyter notebook as our environment for developing Python code.\n",
    "refer to https://jupyter.readthedocs.io/en/latest/content-quickstart.html on the instructions how to install it, the easiest way is to install from Anaconda (https://www.anaconda.com/download/) website, make sure you install with Python 3.6.\n",
    "\n",
    "Also, it is good for the students who are not familiar with python (or they need a quick refreshment) to follow Jim Bagrow tutorial http://bagrow.com/ds1/whirlwindtourpython/00-Title.html. \n",
    "\n",
    "All the assignments to be written in Python 3.6 and can be run using Jupyter on one of the following Internet browsers (Chrome, Safari or Firefox), these are the browsers that officially supported by jupyter.\n",
    "\n",
    "<u> Note: for this assignment, submit your local copy of this page, running on IPython. Submit the file to Blackboard under Assignment3 using this file format:</u> <b>Yourfirstname_lastname_Assignment3.ipynb</b> \n",
    "\n",
    "#### <b>Deadline</b>: <u>Friday, Oct-19-2018 11:59 PM.</u>"
   ]
  },
  {
   "cell_type": "code",
   "execution_count": 1,
   "metadata": {
    "nbpresent": {
     "id": "71b06413-b3c8-4d8a-8162-c7f97e8638ff"
    }
   },
   "outputs": [],
   "source": [
    "%matplotlib inline\n",
    "import numpy as np\n",
    "import pandas as pd\n",
    "import matplotlib.pyplot as plt\n",
    "import scipy\n",
    "from sklearn import datasets,svm,tree,preprocessing,metrics\n",
    "from sklearn.svm import SVC\n",
    "from sklearn.model_selection import RandomizedSearchCV,cross_val_predict,cross_val_score"
   ]
  },
  {
   "cell_type": "markdown",
   "metadata": {
    "nbpresent": {
     "id": "022c0cf1-20b7-4df3-bc1d-c54d2df2cf0a"
    }
   },
   "source": [
    "# Assignment 3 -- Part 1\n",
    "\n",
    "In this part, you will use SVM from sklearn to classify non-linearly sperable datasets. \n",
    "\n",
    "Hint: Refer to the example in sklearn http://scikit-learn.org/stable/auto_examples/svm/plot_iris.html, you can use this code or part of it in your solutions.\n",
    "\n",
    "Load (using load_breast_cancer) datasets from sklearn (datasets.load_breast_cancer()):\n",
    "\n"
   ]
  },
  {
   "cell_type": "code",
   "execution_count": 2,
   "metadata": {
    "nbpresent": {
     "id": "66155e44-4f44-45fe-a733-8feb6bf79904"
    }
   },
   "outputs": [],
   "source": [
    "cancerData = datasets.load_breast_cancer()\n",
    "x=cancerData.data\n",
    "x = preprocessing.scale(x)\n",
    "y=cancerData.target"
   ]
  },
  {
   "cell_type": "markdown",
   "metadata": {
    "nbpresent": {
     "id": "7b5712e6-b08b-4c78-96e5-d6c179cb2216"
    }
   },
   "source": [
    "a. [25 pts]\n",
    "\n",
    "1. In this question, you need to find the best SVM kernel that fit the data. Use scikit learn Library built-in SVM functions, evaluate 'linear', 'poly', 'rbf', 'sigmoid' Kernels using the default parameters as they aren't biased towards one of the kernels. Remember that in order to evaluate kernels or any hyper param you need to use cross-validation method. use k=50 for this question. Comment on the results.\n",
    "\n",
    "2. Which scoring metric you would like to use? justify your answer.\n",
    "\n",
    "Note: You can use built-in scikit learn function for this question and all other questions in this assignment else it is mentioned not to use it."
   ]
  },
  {
   "cell_type": "code",
   "execution_count": 3,
   "metadata": {
    "nbpresent": {
     "id": "3a0e4064-e0d5-43bd-8793-4ce5742de906"
    }
   },
   "outputs": [
    {
     "name": "stdout",
     "output_type": "stream",
     "text": [
      "Using Poly kernels:\n",
      "             precision    recall  f1-score   support\n",
      "\n",
      "          0       1.00      0.75      0.86       212\n",
      "          1       0.87      1.00      0.93       357\n",
      "\n",
      "avg / total       0.92      0.91      0.90       569\n",
      "\n",
      "Using Sigmoid kernels:\n",
      "             precision    recall  f1-score   support\n",
      "\n",
      "          0       0.97      0.92      0.95       212\n",
      "          1       0.95      0.99      0.97       357\n",
      "\n",
      "avg / total       0.96      0.96      0.96       569\n",
      "\n",
      "Using Linear kernels:\n",
      "             precision    recall  f1-score   support\n",
      "\n",
      "          0       0.97      0.96      0.96       212\n",
      "          1       0.97      0.98      0.98       357\n",
      "\n",
      "avg / total       0.97      0.97      0.97       569\n",
      "\n",
      "Using RBF kernels:\n",
      "             precision    recall  f1-score   support\n",
      "\n",
      "          0       0.98      0.97      0.97       212\n",
      "          1       0.98      0.99      0.98       357\n",
      "\n",
      "avg / total       0.98      0.98      0.98       569\n",
      "\n"
     ]
    }
   ],
   "source": [
    "linearModel = svm.SVC(kernel='linear')\n",
    "rbfModel = svm.SVC(kernel='rbf')\n",
    "polyModel = svm.SVC(kernel='poly')\n",
    "sigmoidModel = svm.SVC(kernel='sigmoid')\n",
    "linearModel = linearModel.fit(x, y)\n",
    "rbfModel = rbfModel.fit(x, y)\n",
    "polyModel = polyModel.fit(x, y)\n",
    "sigmoidModel = sigmoidModel.fit(x, y)\n",
    "\n",
    "y_pred = cross_val_predict(polyModel,x, y, cv=50)\n",
    "print(\"Using Poly kernels:\")\n",
    "print(metrics.classification_report(y, y_pred))\n",
    "#print(metrics.confusion_matrix(y, y_pred))\n",
    "\n",
    "y_pred = cross_val_predict(sigmoidModel,x, y, cv=50)\n",
    "print(\"Using Sigmoid kernels:\")\n",
    "print(metrics.classification_report(y, y_pred))\n",
    "#print(metrics.confusion_matrix(y, y_pred))\n",
    "\n",
    "y_pred = cross_val_predict(linearModel,x, y, cv=50)\n",
    "print(\"Using Linear kernels:\")\n",
    "print(metrics.classification_report(y, y_pred))\n",
    "#print(metrics.confusion_matrix(y, y_pred))\n",
    "\n",
    "y_pred = cross_val_predict(rbfModel,x, y, cv=50)\n",
    "print(\"Using RBF kernels:\")\n",
    "print(metrics.classification_report(y, y_pred))\n",
    "#print(metrics.confusion_matrix(y, y_pred))\n",
    "\n",
    "# I would use rbf because it gives us the highest f1-score"
   ]
  },
  {
   "cell_type": "markdown",
   "metadata": {
    "collapsed": true,
    "nbpresent": {
     "id": "342e80f3-8091-415c-b362-61cd2365ff7d"
    }
   },
   "source": [
    "b. [25 pts]\n",
    "\n",
    "Using random search, what are the optimum hyperparameters for each kernel? \n",
    "For this question use, only a few numbers of iterations when you do a random search (no need to run for long hours) also be smart when you select the scale for the C, gamma and class_weight thus you can find the best params. Which SVM kernel achieving the highest performance?\n",
    "\n",
    "Note: You can use RandomizedSearchCV function from the scikit learn library."
   ]
  },
  {
   "cell_type": "code",
   "execution_count": 8,
   "metadata": {
    "nbpresent": {
     "id": "a90d24af-7c70-415a-9909-495ba485a1bf"
    }
   },
   "outputs": [
    {
     "name": "stdout",
     "output_type": "stream",
     "text": [
      "Poly best params: \t 0.945518453427065 \t 0.0001 \t 10000000000.0\n",
      "Sigmoid best params: \t 0.9666080843585237 \t 1e-05 \t 1000.0\n",
      "Linear best params: \t 0.9736379613356766 \t 100.0 \t 0.1\n",
      "RBF best params: \t 0.9666080843585237 \t 1e-05 \t 100000.0\n"
     ]
    }
   ],
   "source": [
    "C_range = np.logspace(-2, 10, 13)\n",
    "gamma_range = np.logspace(-9, 3, 13)\n",
    "model = SVC()\n",
    "\n",
    "# run randomized search\n",
    "random_search1 = RandomizedSearchCV(model, param_distributions={\"gamma\": gamma_range,\"C\": C_range,'kernel':['poly']},n_iter=20)\n",
    "random_search1.fit(x, y)\n",
    "random_search2 = RandomizedSearchCV(model, param_distributions={\"gamma\": gamma_range,\"C\": C_range,'kernel':['sigmoid']},n_iter=20)\n",
    "random_search2.fit(x, y)\n",
    "random_search3 = RandomizedSearchCV(model, param_distributions={\"gamma\": gamma_range,\"C\": C_range,'kernel':['linear']},n_iter=20)\n",
    "random_search3.fit(x, y)\n",
    "random_search4 = RandomizedSearchCV(model, param_distributions={\"gamma\": gamma_range,\"C\": C_range,'kernel':['rbf']},n_iter=20)\n",
    "random_search4.fit(x, y)\n",
    "\n",
    "# summarize the results of the random search\n",
    "print(\"Poly best params: \\t\",random_search1.best_score_,'\\t',random_search1.best_estimator_.gamma,'\\t',random_search1.best_estimator_.C)\n",
    "print(\"Sigmoid best params: \\t\",random_search2.best_score_,'\\t',random_search2.best_estimator_.gamma,'\\t',random_search2.best_estimator_.C)\n",
    "print(\"Linear best params: \\t\",random_search3.best_score_,'\\t',random_search3.best_estimator_.gamma,'\\t',random_search3.best_estimator_.C)\n",
    "print(\"RBF best params: \\t\",random_search4.best_score_,'\\t',random_search4.best_estimator_.gamma,'\\t',random_search4.best_estimator_.C)\n",
    "\n",
    "#Linear kernel is achieving the highest performance"
   ]
  },
  {
   "cell_type": "markdown",
   "metadata": {
    "nbpresent": {
     "id": "f552aeba-4559-461d-882a-823ba5425db4"
    }
   },
   "source": [
    "c. (Graduate students only) [20 pts]\n",
    "\n",
    "Randomly select 20% of the data for testing and the rest for training.\n",
    "\n",
    "Plot the decision surface for \"worse SVM\", \"best SVM\" found in part b and report the performance for each, you may use built-in sklean functions for visualization.\n",
    "\n",
    "Note: For visualization you need to work on two-dimensional feature space, to do so use PCA to reduce the number of the feature to 2 features. "
   ]
  },
  {
   "cell_type": "code",
   "execution_count": null,
   "metadata": {
    "nbpresent": {
     "id": "cd1818e8-bb92-403c-af51-aaad4450235e"
    }
   },
   "outputs": [],
   "source": []
  },
  {
   "cell_type": "markdown",
   "metadata": {
    "nbpresent": {
     "id": "394b37bb-6e40-422e-b3c9-c622c46ab976"
    }
   },
   "source": [
    "# Assignment 3 -- Part 2\n",
    "\n",
    "In this part, you will use the decision tree from sklearn to classify non-linearly separable datasets. \n",
    "\n",
    "\n",
    "Load Car Evaluation Data Set from https://archive.ics.uci.edu/ml/machine-learning-databases/car/car.data, read the dataset description and get familiar with the dataset attributes https://archive.ics.uci.edu/ml/machine-learning-databases/car/car.names\n",
    "\n",
    "This dataset includes strings, you might need to convert them to numbers, in this case, you might need to use methods such as preprocessing.LabelEncoder() \n"
   ]
  },
  {
   "cell_type": "markdown",
   "metadata": {
    "collapsed": true,
    "nbpresent": {
     "id": "06adccbc-446c-49c2-af1a-5688479b7251"
    }
   },
   "source": [
    "a. [20 pts]\n",
    "\n",
    "Use the decision tree to classify the dataset (evaluate cars to one of the four classes unacc, acc, good, v-good), use cross-validation to report your results, you can use sklearn.tree.DecisionTreeClassifier.\n"
   ]
  },
  {
   "cell_type": "code",
   "execution_count": 25,
   "metadata": {
    "nbpresent": {
     "id": "f9acd257-ab12-4275-868d-133fd6e2e5ae"
    }
   },
   "outputs": [
    {
     "name": "stdout",
     "output_type": "stream",
     "text": [
      "[0.97297297 0.94594595 1.         0.97297297 0.97297297 1.\n",
      " 1.         1.         1.         1.         0.97222222 0.97222222\n",
      " 1.         0.91666667 0.94444444 1.         0.97142857 1.\n",
      " 1.         0.97058824 0.97058824 1.         1.         1.\n",
      " 1.         1.         1.         0.94117647 0.94117647 0.94117647\n",
      " 1.         0.94117647 0.94117647 1.         0.96969697 1.\n",
      " 0.87878788 1.         1.         1.         0.96969697 1.\n",
      " 0.96969697 0.93939394 0.96969697 1.         1.         1.\n",
      " 1.         1.        ]\n"
     ]
    },
    {
     "name": "stderr",
     "output_type": "stream",
     "text": [
      "/anaconda3/lib/python3.6/site-packages/sklearn/preprocessing/label.py:95: DataConversionWarning: A column-vector y was passed when a 1d array was expected. Please change the shape of y to (n_samples, ), for example using ravel().\n",
      "  y = column_or_1d(y, warn=True)\n",
      "/anaconda3/lib/python3.6/site-packages/sklearn/preprocessing/label.py:128: DataConversionWarning: A column-vector y was passed when a 1d array was expected. Please change the shape of y to (n_samples, ), for example using ravel().\n",
      "  y = column_or_1d(y, warn=True)\n"
     ]
    },
    {
     "data": {
      "text/plain": [
       "0.9797175502469619"
      ]
     },
     "execution_count": 25,
     "metadata": {},
     "output_type": "execute_result"
    }
   ],
   "source": [
    "url = \"https://archive.ics.uci.edu/ml/machine-learning-databases/car/car.data\"\n",
    "data = np.matrix(pd.read_csv(url))\n",
    "x = np.matrix(data[:,0:6])\n",
    "y = np.matrix(data[:,-1])\n",
    "\n",
    "le = preprocessing.LabelEncoder()\n",
    "le.fit(x[:,0])\n",
    "x[:,0]=le.transform(x[:,0]).reshape(1727,1)\n",
    "le.fit(x[:,1])\n",
    "x[:,1]=le.transform(x[:,1]).reshape(1727,1)\n",
    "le.fit(x[:,2])\n",
    "x[:,2]=le.transform(x[:,2]).reshape(1727,1)\n",
    "le.fit(x[:,3])\n",
    "x[:,3]=le.transform(x[:,3]).reshape(1727,1)\n",
    "le.fit(x[:,4])\n",
    "x[:,4]=le.transform(x[:,4]).reshape(1727,1)\n",
    "le.fit(x[:,5])\n",
    "x[:,5]=le.transform(x[:,5]).reshape(1727,1)\n",
    "le.fit(y)\n",
    "y=le.transform(y).reshape(1727,1)\n",
    "\n",
    "decisionTree = tree.DecisionTreeClassifier()\n",
    "score=cross_val_score(decisionTree, x, y, cv=50)\n",
    "print(score)\n",
    "np.mean(score)"
   ]
  },
  {
   "cell_type": "markdown",
   "metadata": {
    "nbpresent": {
     "id": "f97aa916-f0ed-4776-95e7-2e92c66f1add"
    }
   },
   "source": [
    "b. [20 pts]\n",
    "\n",
    "What is the optimum min_samples_split (The minimum number of samples required to split an internal node), does it make sense? Why?\n",
    "\n",
    "\n"
   ]
  },
  {
   "cell_type": "code",
   "execution_count": 47,
   "metadata": {
    "nbpresent": {
     "id": "fceba820-64d6-40e3-9223-36de70bac16b"
    }
   },
   "outputs": [
    {
     "data": {
      "image/png": "[encoded data removed]",
      "text/plain": [
       "<Figure size 432x288 with 1 Axes>"
      ]
     },
     "metadata": {},
     "output_type": "display_data"
    }
   ],
   "source": [
    "min_samp = np.linspace(0.01,1,10)\n",
    "results=[]\n",
    "\n",
    "for samp in min_samp:\n",
    "    decisionTree = tree.DecisionTreeClassifier(min_samples_split=samp)\n",
    "    score=np.mean(cross_val_score(decisionTree, x, y, cv=50))\n",
    "    results.append(score)\n",
    "\n",
    "plt.plot(min_samp,results,'-')\n",
    "plt.xlabel(\"Percent of samples split\")\n",
    "plt.ylabel(\"Score\")\n",
    "plt.show()\n",
    "\n",
    "# The optimim min_samples_split would be 2 as this model does not show signs of overfitting."
   ]
  },
  {
   "cell_type": "markdown",
   "metadata": {
    "nbpresent": {
     "id": "d83b28ba-d22d-415e-9ccd-32f809507501"
    }
   },
   "source": [
    "c. (Graduate students only) [25 pts]\n",
    "\n",
    "Implement random forest classifier by defining multiple (DecisionTreeClassifier)'s from sklearn, you can use the max_features from DecisionTreeClassifier, compare your results to RandomForestClassifier from sklearn.\n",
    "\n",
    "Note: In this part implement the bagging/ensemble by yourself without calling built-in functions from sklearn (you may still use RandomForestClassifier from sklearn with max_features).\n"
   ]
  },
  {
   "cell_type": "code",
   "execution_count": null,
   "metadata": {
    "collapsed": true
   },
   "outputs": [],
   "source": []
  }
 ],
 "metadata": {
  "kernelspec": {
   "display_name": "Python 3",
   "language": "python",
   "name": "python3"
  },
  "language_info": {
   "codemirror_mode": {
    "name": "ipython",
    "version": 3
   },
   "file_extension": ".py",
   "mimetype": "text/x-python",
   "name": "python",
   "nbconvert_exporter": "python",
   "pygments_lexer": "ipython3",
   "version": "3.6.5"
  }
 },
 "nbformat": 4,
 "nbformat_minor": 2
}
