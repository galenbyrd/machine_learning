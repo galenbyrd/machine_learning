{
 "cells": [
  {
   "cell_type": "markdown",
   "metadata": {},
   "source": [
    "# Getting Python\n",
    "\n",
    "\n",
    "For this course, we are going to use Jupyter notebook as our environment for developing Python code.\n",
    "refer to https://jupyter.readthedocs.io/en/latest/content-quickstart.html on the instructions how to install it, the easiest way is to install from Anaconda (https://www.anaconda.com/download/) website, make sure you install with Python 3.6.\n",
    "\n",
    "Also, it is good for the students who are not familiar with python (or they need a quick refreshment) to follow Jim Bagrow tutorial http://bagrow.com/ds1/whirlwindtourpython/00-Title.html. \n",
    "\n",
    "All the assignments to be written in Python 3.6 and can be run using Jupyter on one of the following Internet browsers (Chrome, Safari or Firefox), these are the browsers that officially supported by jupyter.\n",
    "\n",
    "<u> Note: for this assignment, submit your local copy of this page, running on IPython. Submit the file to Blackboard under Assignment2 using this file format:</u> <b>Yourfirstname_lastname_Assignment2.ipynb</b> \n",
    "\n",
    "#### <b>Deadline</b>: <u>Friday, Oct-05-2018 11:59 PM.</u>\n"
   ]
  },
  {
   "cell_type": "markdown",
   "metadata": {},
   "source": [
    "## Part1\n",
    "In this part, the dataset is one variable that associate a pair of information (Diameter of Sand Granules Vs. Slope on Beach)\n",
    "\n",
    "The data pairs are:\n",
    "\n",
    "X = median diameter (mm) of granules of sand \n",
    "<br>\n",
    "Y = gradient of beach slope in degrees\n",
    "\n",
    "The data is from naturally occurring ocean beaches\n",
    "<br>\n",
    "Reference: Physical geography by A.M King, Oxford Press, England\n",
    "<br>\n",
    "we need to implement a predication model to predict the beach slope in degrees from given granules of sand median diameter.\n",
    "\n"
   ]
  },
  {
   "cell_type": "markdown",
   "metadata": {
    "collapsed": true
   },
   "source": [
    "#### Import your needed libraries in this cell"
   ]
  },
  {
   "cell_type": "code",
   "execution_count": 1,
   "metadata": {},
   "outputs": [],
   "source": [
    "import os\n",
    "import numpy as np\n",
    "import pandas as pd\n",
    "from pandas import Series\n",
    "import matplotlib.pyplot as plt\n",
    "from sklearn import linear_model\n",
    "import math\n",
    "from sklearn.linear_model import LogisticRegression\n",
    "from sklearn.preprocessing import PolynomialFeatures\n",
    "%matplotlib inline"
   ]
  },
  {
   "cell_type": "markdown",
   "metadata": {},
   "source": [
    "### Part 1, Q1 -- 5%\n",
    "Load the data from Assignment2_data1.csv into a DataFrame and plot the GranulesDiameter vs. BeachSlope."
   ]
  },
  {
   "cell_type": "code",
   "execution_count": 2,
   "metadata": {
    "scrolled": true
   },
   "outputs": [
    {
     "data": {
      "image/png": "[encoded data removed]",
      "text/plain": [
       "<Figure size 432x288 with 1 Axes>"
      ]
     },
     "metadata": {},
     "output_type": "display_data"
    }
   ],
   "source": [
    "data1 = pd.read_csv(\"data/Assignment2_data1.csv\", header=None)\n",
    "plt.plot(data1[0],data1[1],'o')\n",
    "plt.xlabel(\"median diameter (mm) of granules of sand\")\n",
    "plt.ylabel(\"gradient of beach slope in degrees\")\n",
    "plt.show()"
   ]
  },
  {
   "cell_type": "markdown",
   "metadata": {},
   "source": [
    "### Part 1, Q2 -- 5%\n",
    "Add a column of ones (x0 = 1 ) to the data loaded in the previous question so you can use a vectorized solution in computing the cost and gradients for the next questions, then convert your data to numpy matrixes.Create Theta numpy matrix with dimension of (1, 2).\n",
    "\n",
    "Note: x, y should have (9, 2), (9, 1) dimensions consequently.\n"
   ]
  },
  {
   "cell_type": "code",
   "execution_count": 3,
   "metadata": {},
   "outputs": [],
   "source": [
    "data1[2]= np.ones(len(data1))\n",
    "x = np.zeros([len(data1),2])\n",
    "y = np.zeros([len(data1),1])\n",
    "x[:,0] = data1[0]\n",
    "x[:,1] = data1[2]\n",
    "y[:,0] = data1[1]\n",
    "x = np.matrix(x)\n",
    "y = np.matrix(y)\n",
    "theta = np.matrix([0,0])"
   ]
  },
  {
   "cell_type": "markdown",
   "metadata": {},
   "source": [
    "### Part 1, Q3 -- 5%\n",
    "\n",
    "- Use scikit-learn's linear regression build-in function to find the best model could fit the giving data.\n",
    "- Print out the model coefficients (Thetas).\n",
    "- Plot the hypothesis and the data on same plot (hypothesis should fit the data nicely) \n",
    "<br>\n",
    "Note: for scikit-learn package refer to http://scikit-learn.org/stable/"
   ]
  },
  {
   "cell_type": "code",
   "execution_count": 4,
   "metadata": {},
   "outputs": [
    {
     "name": "stdout",
     "output_type": "stream",
     "text": [
      "Coefficients: \n",
      " [[17.1593689  0.       ]]\n"
     ]
    },
    {
     "data": {
      "image/png": "[encoded data removed]",
      "text/plain": [
       "<Figure size 432x288 with 1 Axes>"
      ]
     },
     "metadata": {},
     "output_type": "display_data"
    }
   ],
   "source": [
    "# Create linear regression object\n",
    "regr = linear_model.LinearRegression()\n",
    "# Train the model using the training sets\n",
    "regr.fit(x, y)\n",
    "# Make predictions using the testing set\n",
    "y_pred = regr.predict(x)\n",
    "# The coefficients\n",
    "print('Coefficients: \\n', regr.coef_)\n",
    "theta = regr.coef_\n",
    "# Plot outputs\n",
    "plt.scatter([x[:,0]], [y],  color='black')\n",
    "plt.plot(x[:,0], y_pred, color='blue', linewidth=3)\n",
    "plt.xlabel(\"median diameter (mm) of granules of sand\")\n",
    "plt.ylabel(\"gradient of beach slope in degrees\")\n",
    "plt.show()"
   ]
  },
  {
   "cell_type": "markdown",
   "metadata": {},
   "source": [
    "### Part 1, Q4 -- 5%\n",
    "\n",
    "\n",
    "In this part you need to create function to compute the cost of a given solution (characterized by the parameters theta).\n",
    "<img src=\"img/eq2.png\" width = 300>\n",
    "\n",
    "Make sure the implemented function is working by computing the cost calcVectorizedCost(X, y, theta)of initial solution (0 values for theta) \n"
   ]
  },
  {
   "cell_type": "code",
   "execution_count": 5,
   "metadata": {},
   "outputs": [],
   "source": [
    "theta = np.matrix([0,0])\n",
    "def calcVectorizedCost(x, y, theta):\n",
    "    return (1/(2*len(y)))*np.sum(np.square((x.dot(theta.T) - y)))"
   ]
  },
  {
   "cell_type": "code",
   "execution_count": 6,
   "metadata": {},
   "outputs": [
    {
     "data": {
      "text/plain": [
       "11.458122656667785"
      ]
     },
     "execution_count": 6,
     "metadata": {},
     "output_type": "execute_result"
    }
   ],
   "source": [
    "# Check the cost of the initial conditions here ...\n",
    "calcVectorizedCost(x,y,theta)"
   ]
  },
  {
   "cell_type": "markdown",
   "metadata": {},
   "source": [
    "### Part 1, Q5 -- 15%\n",
    "\n",
    "Implement function (gradientDescent) to perform gradient descent on the parameters theta using the update rules:\n",
    "\n",
    "<img src=\"img/eq1.png\" width = 300>\n",
    "\n",
    "Note: you should pick alpha that can make your algorithm converge within a reasonable number of iterations (iters). "
   ]
  },
  {
   "cell_type": "code",
   "execution_count": 7,
   "metadata": {},
   "outputs": [],
   "source": [
    "def gradientDescent(x,y,theta,alpha,iters):\n",
    "    cost_history = np.zeros(iters)\n",
    "    m, n = np.shape(x)\n",
    "    for i in range (iters):\n",
    "        #print(theta)\n",
    "        prediction = x@theta.T\n",
    "        theta = theta - (1/m)*alpha*((prediction-y).T@x)\n",
    "        cost_history[i] = calcVectorizedCost(x,y,theta)\n",
    "    return theta,cost_history"
   ]
  },
  {
   "cell_type": "markdown",
   "metadata": {},
   "source": [
    "### Part 1, Q6 -- 10%\n",
    "\n",
    "- Run the gradient descent algorithm implemented in Q4 to fit the parameters theta to the training set.\n",
    "- print out parameters theta and plot cost error with respect to the training iteration#.\n",
    "- Plot the fitted linear model to visualize  how well it fits.\n",
    "- Compare your results with the one found in Q3.\n"
   ]
  },
  {
   "cell_type": "code",
   "execution_count": 8,
   "metadata": {},
   "outputs": [
    {
     "name": "stdout",
     "output_type": "stream",
     "text": [
      "Theta:  [[17.08113774 -2.44915973]]\n"
     ]
    },
    {
     "data": {
      "image/png": "[encoded data removed]",
      "text/plain": [
       "<Figure size 432x288 with 1 Axes>"
      ]
     },
     "metadata": {},
     "output_type": "display_data"
    },
    {
     "data": {
      "image/png": "[encoded data removed]",
      "text/plain": [
       "<Figure size 432x288 with 1 Axes>"
      ]
     },
     "metadata": {},
     "output_type": "display_data"
    }
   ],
   "source": [
    "theta_gd,cost_history = gradientDescent(x,y,theta,.1,1500)\n",
    "print(\"Theta: \",theta_gd)\n",
    "\n",
    "plt.plot(cost_history)\n",
    "plt.xlabel(\"number of iterations\")\n",
    "plt.ylabel(\"cost\")\n",
    "plt.show()\n",
    "\n",
    "y_hat = x@ theta_gd.T\n",
    "plt.scatter([x[:,0]], [y],  color='black')\n",
    "plt.plot(x[:,0], y_hat, color='blue', linewidth=3)\n",
    "plt.xlabel(\"median diameter (mm) of granules of sand\")\n",
    "plt.ylabel(\"gradient of beach slope in degrees\")\n",
    "plt.show()"
   ]
  },
  {
   "cell_type": "markdown",
   "metadata": {},
   "source": [
    "# Assignment 2 -- Part 2\n",
    "\n",
    "In this exercise, you will implement logistic regression and apply it to dataset Assignment2_data2.txt\n",
    "\n",
    "Import and examine the dataset Assignment2_data2.txt. There are two continuous independent variables in the data - “Exam 1” and “Exam 2”. Our prediction target is the “Admitted” label, which is binary-valued. A value of 1 means the student was admitted and a value of 0 means the student was not admitted.\n",
    "\n",
    "In this part of the Assignment, you will build a logistic regression model to predict whether a student gets admitted into a university (a model that estimates an applicant’s probability of admission based the scores from those two exams)\n"
   ]
  },
  {
   "cell_type": "markdown",
   "metadata": {
    "collapsed": true
   },
   "source": [
    "### Part 2, Q1  -- 5%\n",
    "Visualize the data. X-axis for Exam 1 score, Y-axis for Exam 2 score, + (plus) for admitted, and circle for not admitted. "
   ]
  },
  {
   "cell_type": "code",
   "execution_count": 9,
   "metadata": {},
   "outputs": [
    {
     "data": {
      "image/png": "[encoded data removed]",
      "text/plain": [
       "<Figure size 432x288 with 1 Axes>"
      ]
     },
     "metadata": {},
     "output_type": "display_data"
    }
   ],
   "source": [
    "data2 = pd.read_csv(\"data/Assignment2_data2.txt\", header=None)\n",
    "data2reject = data2.loc[data2[2] == 0]\n",
    "data2accept = data2.loc[data2[2] == 1]\n",
    "plt.plot(data2reject[0],data2reject[1],'o')\n",
    "plt.plot(data2accept[0],data2accept[1],'+')\n",
    "plt.xlabel(\"Exam 1\")\n",
    "plt.ylabel(\"Exam 2\")\n",
    "plt.show()"
   ]
  },
  {
   "cell_type": "markdown",
   "metadata": {},
   "source": [
    "### Part 2, Q2  -- 5%\n",
    "\n",
    "Before you start with the implementation of the cost function and gradient descent algorithm for logistic Regression implement the sigmoid function \"sigmoid\"  that can be called by the rest of your program. test it when you are finished, try testing a few values by calling sigmoid(x). For large positive values of x, the sigmoid should be close to 1, while for large negative values, the sigmoid should be close to 0. Evaluating sigmoid(0) should give you exactly 0.5."
   ]
  },
  {
   "cell_type": "code",
   "execution_count": 10,
   "metadata": {},
   "outputs": [
    {
     "name": "stdout",
     "output_type": "stream",
     "text": [
      "1.0\n",
      "0.5\n",
      "3.7200759760208356e-44\n"
     ]
    }
   ],
   "source": [
    "def sigmoid(x):\n",
    "    z = 1/(1+np.exp(-x))\n",
    "    return z\n",
    "\n",
    "print (sigmoid(100))\n",
    "print (sigmoid(0))\n",
    "print (sigmoid(-100))"
   ]
  },
  {
   "cell_type": "markdown",
   "metadata": {},
   "source": [
    "### Part 2, Q2   -- 15%\n",
    "\n",
    "Implement cost function (calcLogRegressionCost) and gradient descent (logRegressionGradientDescent).   Once you are done,  call your \"calcLogRegressionCost\" using the initial parameters of θ. You should see that the cost is about 0.693.\n",
    "\n",
    "Note: no need to add the regularization term. "
   ]
  },
  {
   "cell_type": "code",
   "execution_count": 11,
   "metadata": {},
   "outputs": [
    {
     "name": "stdout",
     "output_type": "stream",
     "text": [
      "Cost: 0.6931471805599452\n"
     ]
    }
   ],
   "source": [
    "x=np.zeros([100,3])\n",
    "x[:,0]=data2[0]\n",
    "x[:,1]=data2[1]\n",
    "x[:,2]= np.ones(len(data2))\n",
    "x = np.matrix(x)\n",
    "y=np.zeros([1,100])\n",
    "y=data2[2]\n",
    "y=np.matrix(y)\n",
    "y=y.reshape(100,1)\n",
    "theta = np.matrix([0,0,0])\n",
    "\n",
    "def calcLogRegressionCost(x,y,theta):\n",
    "    first = -y.T*np.log(sigmoid(np.dot(x,theta.T)))\n",
    "    second = (1-y).T*np.log(1-sigmoid(np.dot(x,theta.T)))\n",
    "    z = np.sum((first-second)/len(x))\n",
    "    return z\n",
    "\n",
    "def logRegGradDescent(x,y,theta,alpha,iters):\n",
    "    temp=np.matrix(np.zeros(theta.shape))\n",
    "    parameters = int(theta.ravel().shape[1])\n",
    "    cost_history = np.zeros(iters)\n",
    "    for i in range (iters):\n",
    "        error = sigmoid(x*theta.T)-y\n",
    "        for j in range (parameters):\n",
    "            term = error.T @ x[:,j]\n",
    "            theta[0,j] = theta[0,j] - (alpha*np.sum(term))\n",
    "        theta=temp\n",
    "        cost_history[i] = calcLogRegressionCost(x,y,theta)\n",
    "    return theta, cost_history\n",
    "\n",
    "print('Cost:', calcLogRegressionCost(x,y,theta))\n",
    "thetalgd, cost_history = logRegGradDescent(x,y,theta,.00001,600000)"
   ]
  },
  {
   "cell_type": "markdown",
   "metadata": {},
   "source": [
    "### Part 2, Q3   -- 5%\n",
    "\n",
    "Run the gradient descent algorithm to fit your parameters theta to the training set. Report optimal final θ. Plot the decision boundary with the training data"
   ]
  },
  {
   "cell_type": "code",
   "execution_count": 12,
   "metadata": {},
   "outputs": [
    {
     "name": "stdout",
     "output_type": "stream",
     "text": [
      "Optimal Final Theta: [[  0.10669952   0.10066952 -12.68402326]]\n"
     ]
    },
    {
     "data": {
      "image/png": "[encoded data removed]",
      "text/plain": [
       "<Figure size 432x288 with 1 Axes>"
      ]
     },
     "metadata": {},
     "output_type": "display_data"
    }
   ],
   "source": [
    "a = np.linspace(25,100,10)  \n",
    "b = np.matrix(np.zeros(10))\n",
    "b = -(thetalgd[:,2] + thetalgd[:,1]*a)/thetalgd[:,0]\n",
    "\n",
    "print(\"Optimal Final Theta:\",thetalgd)\n",
    "plt.plot(data2reject[0],data2reject[1],'o')\n",
    "plt.plot(data2accept[0],data2accept[1],'+')\n",
    "plt.plot(a,b[0].T)\n",
    "plt.xlabel(\"Exam 1\")\n",
    "plt.ylabel(\"Exam 2\")\n",
    "plt.show()"
   ]
  },
  {
   "cell_type": "markdown",
   "metadata": {},
   "source": [
    "### Part 2, Q4  -- 4%\n",
    "\n",
    "If a student has an Exam 1 score 100 and an Exam 2 score 50, what is the admission probability of this student? "
   ]
  },
  {
   "cell_type": "code",
   "execution_count": 13,
   "metadata": {},
   "outputs": [
    {
     "name": "stdout",
     "output_type": "stream",
     "text": [
      "Admitted with Prob: [0.99026411]\n"
     ]
    },
    {
     "name": "stderr",
     "output_type": "stream",
     "text": [
      "/anaconda3/lib/python3.6/site-packages/sklearn/utils/validation.py:578: DataConversionWarning: A column-vector y was passed when a 1d array was expected. Please change the shape of y to (n_samples, ), for example using ravel().\n",
      "  y = column_or_1d(y, warn=True)\n"
     ]
    }
   ],
   "source": [
    "score = np.array([100,50,1])\n",
    "model = LogisticRegression()\n",
    "model.fit(x, y)\n",
    "theta = model.coef_\n",
    "prediction = sigmoid(np.dot(score,theta.T))\n",
    "if (prediction >= .5):\n",
    "    print(\"Admitted with Prob:\",prediction)\n",
    "else:\n",
    "    print(\"Rejected with Prob:\",prediction)"
   ]
  },
  {
   "cell_type": "markdown",
   "metadata": {},
   "source": [
    "### Part 2, Q5 -- 5% \n",
    "Plot the cost with the number of iterations. what is the best learning rate you choosed and why ?"
   ]
  },
  {
   "cell_type": "code",
   "execution_count": 14,
   "metadata": {},
   "outputs": [
    {
     "data": {
      "image/png": "[encoded data removed]",
      "text/plain": [
       "<Figure size 432x288 with 1 Axes>"
      ]
     },
     "metadata": {},
     "output_type": "display_data"
    }
   ],
   "source": [
    "plt.plot(cost_history)\n",
    "plt.xlabel(\"number of iterations\")\n",
    "plt.ylabel(\"cost\")\n",
    "plt.show()\n",
    "\n",
    "# I chose alpha = .00001 because a larger alpha will skip over the value and then diverge"
   ]
  },
  {
   "cell_type": "markdown",
   "metadata": {},
   "source": [
    "# Assignment 2 -- Part 3\n",
    "\n",
    "In this part of the assignment, you will implement regularized logistic regression to predict whether microchips from a fabrication plant passes quality assurance(QA). During QA, each microchip goes through various tests to ensure it is functioning correctly.\n",
    "\n",
    "Import and examine the dataset Assignment2_data3.txt. Suppose you are the product manager of the factory and you have the test results for some microchips on two different tests. From these two tests, you would like to determine whether the microchips should be accepted or rejected. "
   ]
  },
  {
   "cell_type": "markdown",
   "metadata": {},
   "source": [
    "### Part 3, Q1 -- 4%\n",
    "Visualize the data. X-axis for Test 1 score, Y-axis for Test 2 score, + (plus) for accepted, and circle for rejected. "
   ]
  },
  {
   "cell_type": "code",
   "execution_count": 15,
   "metadata": {},
   "outputs": [
    {
     "data": {
      "image/png": "[encoded data removed]",
      "text/plain": [
       "<Figure size 432x288 with 1 Axes>"
      ]
     },
     "metadata": {},
     "output_type": "display_data"
    }
   ],
   "source": [
    "data3 = pd.read_csv(\"data/Assignment2_data3.txt\", header=None)\n",
    "data3reject = data3.loc[data3[2] == 0]\n",
    "data3accept = data3.loc[data3[2] == 1]\n",
    "plt.plot(data3reject[0],data3reject[1],'o')\n",
    "plt.plot(data3accept[0],data3accept[1],'+')\n",
    "plt.xlabel(\"Test 1\")\n",
    "plt.ylabel(\"Test 2\")\n",
    "plt.show()\n",
    "\n",
    "x=np.zeros([118,3])\n",
    "x[:,0]=data3[0]\n",
    "x[:,1]=data3[1]\n",
    "x[:,2]= np.ones(len(data3))\n",
    "y=data3[2]\n",
    "y = np.matrix(y)\n",
    "y=y.reshape(118,1)\n",
    "x = np.matrix(x)\n",
    "theta = np.matrix(np.zeros([1,28]))"
   ]
  },
  {
   "cell_type": "markdown",
   "metadata": {},
   "source": [
    "### Part 3, Q2 -- 12%\n",
    "One way to fit the data better is to create more features from each data\n",
    "point.  map the features into all polynomial terms of x1 and x2 up to the sixth power.  \n",
    "\n",
    "<img src=\"img/polyn6.png\" width = 300>\n",
    "\n",
    "<br> Report optimal final θ. Plot the decision boundary with the training data. \n",
    "You can use the cost and GradientDescent algorithms implemented in assignment Part2."
   ]
  },
  {
   "cell_type": "code",
   "execution_count": 16,
   "metadata": {},
   "outputs": [
    {
     "name": "stdout",
     "output_type": "stream",
     "text": [
      "Optimal Final Theta: [[ 3.29652671  2.33663886  3.61886975 -5.07071432 -4.20055571 -5.10172115\n",
      "   1.05024077 -1.52944529 -0.92626434 -0.35170174 -4.16055212  0.3354639\n",
      "  -2.23475245 -1.59075422 -3.41816171 -0.62852932 -0.71108172  0.47426327\n",
      "  -1.33467421 -1.53783033 -0.19921443 -3.32272882  0.40162577 -0.98640428\n",
      "   0.32061407 -1.34548433 -1.19174029 -1.64587289]]\n"
     ]
    },
    {
     "data": {
      "image/png": "[encoded data removed]",
      "text/plain": [
       "<Figure size 432x288 with 1 Axes>"
      ]
     },
     "metadata": {},
     "output_type": "display_data"
    }
   ],
   "source": [
    "polyF = PolynomialFeatures(6)\n",
    "mapFeature = polyF.fit_transform(x[:,0:2])\n",
    "thetalgd, cost_history = logRegGradDescent(mapFeature,y,theta,.009,1000)\n",
    "\n",
    "print(\"Optimal Final Theta:\",thetalgd)\n",
    "plt.plot(cost_history)\n",
    "plt.xlabel(\"number of iterations\")\n",
    "plt.ylabel(\"cost\")\n",
    "plt.show()"
   ]
  },
  {
   "cell_type": "code",
   "execution_count": 17,
   "metadata": {},
   "outputs": [
    {
     "data": {
      "image/png": "[encoded data removed]",
      "text/plain": [
       "<Figure size 432x288 with 1 Axes>"
      ]
     },
     "metadata": {},
     "output_type": "display_data"
    }
   ],
   "source": [
    "u=np.arange(-1,1,.025)\n",
    "v=np.arange(-1,1,.025)\n",
    "z=np.zeros(shape=(len(u),len(v)))\n",
    "\n",
    "for i in range (len(u)):\n",
    "    for j in range(len(v)):\n",
    "        temp = polyF.fit_transform(np.array([[u[i],v[j]]])).dot(np.array(thetalgd.T))\n",
    "        z[i,j]=temp\n",
    "z=z.T\n",
    "\n",
    "plt.plot(data3reject[0],data3reject[1],'o')\n",
    "plt.plot(data3accept[0],data3accept[1],'+')\n",
    "plt.xlabel(\"Test 1\")\n",
    "plt.ylabel(\"Test 2\")\n",
    "plt.contour(u,v,z,[0])\n",
    "plt.show()"
   ]
  },
  {
   "cell_type": "markdown",
   "metadata": {},
   "source": [
    "### Part 3, Q3 -- 12% <u> this part only fo Graduate stundents\n",
    "Implement Regularized Logistic Regression cost function and gradient descent namely (calcRegularizedLogRegressionCost, RegularizedlogRegressionGradientDescent) . Plot the cost with the number of iterations."
   ]
  },
  {
   "cell_type": "code",
   "execution_count": null,
   "metadata": {
    "collapsed": true
   },
   "outputs": [],
   "source": []
  },
  {
   "cell_type": "markdown",
   "metadata": {},
   "source": [
    "### Part 3, Q4 -- 12%, <u> this part only fo Graduate stundents\n",
    "Demonstrate the impact of the regularization parameter λ with 1, 0, 100, 1000. Plot the decision boundary of for the 4 different λ values. \n",
    "\n"
   ]
  },
  {
   "cell_type": "code",
   "execution_count": null,
   "metadata": {
    "collapsed": true
   },
   "outputs": [],
   "source": []
  },
  {
   "cell_type": "code",
   "execution_count": null,
   "metadata": {},
   "outputs": [],
   "source": [
    "###### CODE GRAVE\n",
    "\n",
    "def lrgd(x,y,theta,alpha,iters):\n",
    "    cost_history = np.zeros(iters)\n",
    "    parameters = int(theta.ravel().shape[1])\n",
    "    for i in range (iters):\n",
    "        cost_history[i] = calcLogRegressionCost(x,y,theta)\n",
    "        predicted = sigmoid(x*theta.T)\n",
    "        #print(theta)\n",
    "        for j in range (parameters):\n",
    "            diff = predicted - y\n",
    "            error = diff *x[:,j]\n",
    "            theta[0,j]=theta[0,j]-(alpha*error.sum())     \n",
    "    return theta,cost_history\n",
    "\n",
    "def lrgd2(x,y,theta,alpha,iters):\n",
    "    cost_history = np.zeros(iters)\n",
    "    m = x.shape[0]\n",
    "    for i in range (iters):\n",
    "        cost_history[i] = calcLogRegressionCost(x,y,theta)\n",
    "        h = sigmoid(np.matmul(x, theta.T))\n",
    "        grad = np.matmul(x.T, (h - y.T)) / m\n",
    "        theta = theta - (alpha* grad).T   \n",
    "    return theta,cost_history\n",
    "\n",
    "\n",
    "def lrgd3(x,y,theta,alpha,iters):\n",
    "    cost_history = np.zeros(iters)\n",
    "    n = len(x)\n",
    "    for i in range (iters):\n",
    "        grad = (1/n)*(sigmoid(np.dot(theta,x.T))-y.T).dot(x)\n",
    "        #print(grad.shape)\n",
    "        theta = theta - (alpha* grad)\n",
    "        cost_history[i] = calcLogRegressionCost(x,y,theta)\n",
    "    return theta,cost_history\n",
    "\n",
    "\n",
    "\n",
    "\n",
    "model = LogisticRegression()\n",
    "model.fit(x, y)\n",
    "theta = model.coef_\n",
    "print(theta)\n",
    "\n",
    "y_hat = sigmoid(x*theta.T)*100\n",
    "y_hatSort = np.zeros([1,100])\n",
    "for index, elm in enumerate(y_hat):\n",
    "    y_hatSort[0,index] = elm\n",
    "xSort = np.zeros([1,100])\n",
    "for index, elm in enumerate(x[:,0]):\n",
    "    xSort[0,index] = elm\n",
    "\n",
    "plt.plot(data2reject[0],data2reject[1],'o')\n",
    "plt.plot(data2accept[0],data2accept[1],'+')\n",
    "plt.xlabel(\"Exam 1\")\n",
    "plt.ylabel(\"Exam 2\")\n",
    "plt.plot(sorted(xSort[0]), sorted(y_hatSort[0],reverse=True), color='blue', linewidth=3)\n",
    "plt.show()\n",
    "\n",
    "\n",
    "\n",
    "y_hatSort = np.zeros([1,100])\n",
    "y_hat = x*thetalgd.T\n",
    "for index, elm in enumerate(y_hat):\n",
    "    y_hatSort[0,index] = elm\n",
    "xSort = np.zeros([1,100])\n",
    "for index, elm in enumerate(x[:,0]):\n",
    "    xSort[0,index] = elm"
   ]
  }
 ],
 "metadata": {
  "kernelspec": {
   "display_name": "Python 3",
   "language": "python",
   "name": "python3"
  },
  "language_info": {
   "codemirror_mode": {
    "name": "ipython",
    "version": 3
   },
   "file_extension": ".py",
   "mimetype": "text/x-python",
   "name": "python",
   "nbconvert_exporter": "python",
   "pygments_lexer": "ipython3",
   "version": "3.6.5"
  }
 },
 "nbformat": 4,
 "nbformat_minor": 2
}
