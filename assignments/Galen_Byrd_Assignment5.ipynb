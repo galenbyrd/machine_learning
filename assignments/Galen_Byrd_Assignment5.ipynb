{
 "cells": [
  {
   "cell_type": "markdown",
   "metadata": {},
   "source": [
    "# Getting Python\n",
    "\n",
    "\n",
    "For this course, we are going to use Jupyter notebook as our environment for developing Python code.\n",
    "refer to https://jupyter.readthedocs.io/en/latest/content-quickstart.html on the instructions how to install it, the easiest way is to install from Anaconda (https://www.anaconda.com/download/) website, make sure you install with Python 3.6.\n",
    "\n",
    "Also, it is good for the students who are not familiar with python (or they need a quick refreshment) to follow Jim Bagrow tutorial http://bagrow.com/ds1/whirlwindtourpython/00-Title.html. \n",
    "\n",
    "All the assignments to be written in Python 3.6 and can be run using Jupyter on one of the following Internet browsers (Chrome, Safari or Firefox), these are the browsers that officially supported by jupyter.\n",
    "\n",
    "<u> Note: for this assignment, submit your local copy of this page, running on IPython. Submit the file to Blackboard under Assignment1 using this file format:</u> <b>Yourfirstname_lastname_Assignment5.ipynb</b> \n",
    "\n",
    "#### <b>Deadline</b>: <u>Sunday, Dec-02-2018 11:59 PM.</u>"
   ]
  },
  {
   "cell_type": "markdown",
   "metadata": {},
   "source": [
    "## Assignment 5 (This assignment is for Graduate students only, it is optional for undergraduates with extra cridets )\n",
    "\n",
    " "
   ]
  },
  {
   "cell_type": "markdown",
   "metadata": {},
   "source": [
    "In this assignemnt you are going to train a convolutional neural network on CIFAR-10  dataset from assignment 4, refer to part1 in assignemnt 4 to use same training, validation and testing datasets splits. \n",
    "\n",
    "Start by reading the this tutorial on the tensorflow website (https://www.tensorflow.org/tutorials/keras/basic_classification). \n"
   ]
  },
  {
   "cell_type": "code",
   "execution_count": 52,
   "metadata": {},
   "outputs": [],
   "source": [
    "from keras.datasets import cifar10\n",
    "from keras import Sequential \n",
    "from keras import layers\n",
    "from keras import optimizers\n",
    "from keras.utils import to_categorical\n",
    "from keras.layers import Dense, Dropout, Activation, Conv2D, MaxPool2D, Flatten\n",
    "from keras.optimizers import Adam\n",
    "from keras.wrappers.scikit_learn import KerasClassifier\n",
    "from keras import backend as k"
   ]
  },
  {
   "cell_type": "code",
   "execution_count": 53,
   "metadata": {},
   "outputs": [],
   "source": [
    "(xtrain, ytrain), (xtest, ytest) = cifar10.load_data()\n",
    "xval = xtrain[:10000,:,:,:]\n",
    "yval = ytrain[:10000,:]\n",
    "xtrain = xtrain[10000:,:,:,:]\n",
    "ytrain = ytrain[10000:,:]\n",
    "def load_cifar10(xtrain,xtest,xval,ytrain,ytest,yval):\n",
    "    xtest = np.divide(xtest,255)\n",
    "    xtrain = np.divide(xtrain,255)\n",
    "    xval = np.divide(xval,255)\n",
    "    ytrain_1hot = to_categorical(ytrain)\n",
    "    ytest_1hot = to_categorical(ytest)\n",
    "    yval_1hot = to_categorical(yval)\n",
    "    return xtrain, xval, xtest, ytrain_1hot, yval_1hot, ytest_1hot\n",
    "\n",
    "xtrain, xval, xtest, ytrain_1hot, yval_1hot, ytest_1hot = load_cifar10(xtrain,xtest,xval,ytrain,ytest,yval)"
   ]
  },
  {
   "cell_type": "markdown",
   "metadata": {},
   "source": [
    "a. [70 points] Define the model as indicated in the code below. The model is defined as follows:\n",
    "\n",
    "- An input that is 32x32x3 dimensional vector.\n",
    "- Reshape the input as 32x32x3 images (it is a dataset with color images)\n",
    "- A convolutional layer with 32 filters of shape 12x12x3 and a ReLU non-linearity (with stride (2, 2) and no padding)\n",
    "- A convolutional layer with 64 filters of shape 5x5x32 and a ReLU non-linearity (with stride (1, 2) and padding to maintain size)\n",
    "- A max_pooling layer of shape 2x2\n",
    "- A fully connected layer taking all the outputs of the max_pooling layer to 1024 units and ReLU nonlinearity\n",
    "- A fully connected layer taking 1024 units to 10 no activation function (the softmax non-linearity will be included in the loss function rather than in the model) \n",
    "- Use AdamOptimizer \n",
    "- use the Accuracy as your metric... Accuray is simply defined as the fraction of data correctly classified\n",
    "- initially pick the learning rate to be 0.05 (if this learning rate does not work, pick different learning rate) with decay step of 0.95 every 2000 iterations\n",
    "\n",
    "\n",
    "write the code to train the model written, train for 15 epochs with a  batch size of 128. \n",
    "\n",
    "\n",
    "\n",
    "\n",
    "Hint: start from known architecture then modify the code to match the numbers listed above."
   ]
  },
  {
   "cell_type": "code",
   "execution_count": 54,
   "metadata": {},
   "outputs": [
    {
     "name": "stdout",
     "output_type": "stream",
     "text": [
      "Train on 40000 samples, validate on 10000 samples\n",
      "Epoch 1/15\n",
      "40000/40000 [==============================] - 21s 528us/step - loss: 14.4718 - acc: 0.0997 - val_loss: 14.4982 - val_acc: 0.1005\n",
      "Epoch 2/15\n",
      "40000/40000 [==============================] - 18s 459us/step - loss: 14.5083 - acc: 0.0999 - val_loss: 14.4982 - val_acc: 0.1005\n",
      "Epoch 3/15\n",
      "40000/40000 [==============================] - 18s 462us/step - loss: 14.5083 - acc: 0.0999 - val_loss: 14.4982 - val_acc: 0.1005\n",
      "Epoch 4/15\n",
      "40000/40000 [==============================] - 18s 462us/step - loss: 14.5083 - acc: 0.0999 - val_loss: 14.4982 - val_acc: 0.1005\n",
      "Epoch 5/15\n",
      "40000/40000 [==============================] - 19s 464us/step - loss: 14.5083 - acc: 0.0999 - val_loss: 14.4982 - val_acc: 0.1005\n",
      "Epoch 6/15\n",
      "40000/40000 [==============================] - 19s 466us/step - loss: 14.5083 - acc: 0.0999 - val_loss: 14.4982 - val_acc: 0.1005\n",
      "Epoch 7/15\n",
      "40000/40000 [==============================] - 19s 473us/step - loss: 14.5083 - acc: 0.0999 - val_loss: 14.4982 - val_acc: 0.1005\n",
      "Epoch 8/15\n",
      "40000/40000 [==============================] - 19s 484us/step - loss: 14.5083 - acc: 0.0999 - val_loss: 14.4982 - val_acc: 0.1005\n",
      "Epoch 9/15\n",
      "40000/40000 [==============================] - 19s 472us/step - loss: 14.5083 - acc: 0.0999 - val_loss: 14.4982 - val_acc: 0.1005\n",
      "Epoch 10/15\n",
      "40000/40000 [==============================] - 19s 470us/step - loss: 14.5083 - acc: 0.0999 - val_loss: 14.4982 - val_acc: 0.1005\n",
      "Epoch 11/15\n",
      "40000/40000 [==============================] - 19s 468us/step - loss: 14.5083 - acc: 0.0999 - val_loss: 14.4982 - val_acc: 0.1005\n",
      "Epoch 12/15\n",
      "40000/40000 [==============================] - 19s 468us/step - loss: 14.5083 - acc: 0.0999 - val_loss: 14.4982 - val_acc: 0.1005\n",
      "Epoch 13/15\n",
      "40000/40000 [==============================] - 19s 481us/step - loss: 14.5083 - acc: 0.0999 - val_loss: 14.4982 - val_acc: 0.1005\n",
      "Epoch 14/15\n",
      "40000/40000 [==============================] - 19s 471us/step - loss: 14.5083 - acc: 0.0999 - val_loss: 14.4982 - val_acc: 0.1005\n",
      "Epoch 15/15\n",
      "40000/40000 [==============================] - 19s 470us/step - loss: 14.5083 - acc: 0.0999 - val_loss: 14.4982 - val_acc: 0.1005\n"
     ]
    }
   ],
   "source": [
    "model = Sequential()\n",
    "model.add(Conv2D(32, kernel_size=(12,12), strides=(2,2), activation='relu', input_shape=(32,32,3)))\n",
    "model.add(Conv2D(64, kernel_size=(5,5), strides=(1,2), activation='relu'))\n",
    "model.add(MaxPool2D(pool_size=(2,2)))\n",
    "model.add(Dense(1024,activation='relu'))\n",
    "model.add(Flatten())\n",
    "model.add(Dense(10,activation='softmax'))\n",
    "adam = Adam(lr=.05)\n",
    "model.compile(loss='categorical_crossentropy', optimizer=adam, metrics=['accuracy'])\n",
    "model.fit(xtrain,ytrain_1hot,epochs=15,batch_size=128,validation_data = (xval, yval_1hot))\n",
    "k.clear_session()"
   ]
  },
  {
   "cell_type": "markdown",
   "metadata": {},
   "source": [
    "b. [15 points] Find better convolutional neural network architecture that give better results (at least enhancment of 5.0%) than the one built in part a (prove experimentally). "
   ]
  },
  {
   "cell_type": "code",
   "execution_count": 55,
   "metadata": {},
   "outputs": [
    {
     "name": "stdout",
     "output_type": "stream",
     "text": [
      "Train on 40000 samples, validate on 10000 samples\n",
      "Epoch 1/15\n",
      "40000/40000 [==============================] - 22s 553us/step - loss: 1.8133 - acc: 0.3369 - val_loss: 1.5785 - val_acc: 0.4246\n",
      "Epoch 2/15\n",
      "40000/40000 [==============================] - 20s 495us/step - loss: 1.5361 - acc: 0.4465 - val_loss: 1.4613 - val_acc: 0.4727\n",
      "Epoch 3/15\n",
      "40000/40000 [==============================] - 19s 469us/step - loss: 1.4322 - acc: 0.4901 - val_loss: 1.4031 - val_acc: 0.5016\n",
      "Epoch 4/15\n",
      "40000/40000 [==============================] - 19s 486us/step - loss: 1.3540 - acc: 0.5191 - val_loss: 1.3782 - val_acc: 0.5092\n",
      "Epoch 5/15\n",
      "40000/40000 [==============================] - 20s 489us/step - loss: 1.2954 - acc: 0.5425 - val_loss: 1.3387 - val_acc: 0.5180\n",
      "Epoch 6/15\n",
      "40000/40000 [==============================] - 19s 486us/step - loss: 1.2409 - acc: 0.5580 - val_loss: 1.3289 - val_acc: 0.5297\n",
      "Epoch 7/15\n",
      "40000/40000 [==============================] - 19s 487us/step - loss: 1.1851 - acc: 0.5792 - val_loss: 1.2924 - val_acc: 0.5430\n",
      "Epoch 8/15\n",
      "40000/40000 [==============================] - 20s 491us/step - loss: 1.1258 - acc: 0.6031 - val_loss: 1.2580 - val_acc: 0.5620\n",
      "Epoch 9/15\n",
      "40000/40000 [==============================] - 20s 489us/step - loss: 1.0759 - acc: 0.6198 - val_loss: 1.2440 - val_acc: 0.5686\n",
      "Epoch 10/15\n",
      "40000/40000 [==============================] - 20s 493us/step - loss: 1.0260 - acc: 0.6374 - val_loss: 1.2550 - val_acc: 0.5626\n",
      "Epoch 11/15\n",
      "40000/40000 [==============================] - 20s 493us/step - loss: 0.9740 - acc: 0.6565 - val_loss: 1.2709 - val_acc: 0.5629\n",
      "Epoch 12/15\n",
      "40000/40000 [==============================] - 20s 488us/step - loss: 0.9192 - acc: 0.6784 - val_loss: 1.2948 - val_acc: 0.5634\n",
      "Epoch 13/15\n",
      "40000/40000 [==============================] - 20s 488us/step - loss: 0.8703 - acc: 0.6959 - val_loss: 1.2706 - val_acc: 0.5713\n",
      "Epoch 14/15\n",
      "40000/40000 [==============================] - 21s 517us/step - loss: 0.8169 - acc: 0.7123 - val_loss: 1.3278 - val_acc: 0.5647\n",
      "Epoch 15/15\n",
      "40000/40000 [==============================] - 19s 477us/step - loss: 0.7577 - acc: 0.7346 - val_loss: 1.3627 - val_acc: 0.5648\n"
     ]
    },
    {
     "data": {
      "text/plain": [
       "<keras.callbacks.History at 0xb2d700780>"
      ]
     },
     "execution_count": 55,
     "metadata": {},
     "output_type": "execute_result"
    }
   ],
   "source": [
    "model = Sequential()\n",
    "model.add(Conv2D(32, kernel_size=(12,12), strides=(2,2), activation='relu', input_shape=(32,32,3)))\n",
    "model.add(Conv2D(64, kernel_size=(5,5), strides=(1,2), activation='relu'))\n",
    "model.add(MaxPool2D(pool_size=(2,2)))\n",
    "model.add(Dense(1024,activation='relu'))\n",
    "model.add(Flatten())\n",
    "model.add(Dense(10,activation='softmax'))\n",
    "adam = Adam(lr=.01)\n",
    "model.compile(loss='categorical_crossentropy', optimizer='adam', metrics=['accuracy'])\n",
    "model.fit(xtrain,ytrain_1hot,epochs=15,batch_size=128,validation_data = (xval, yval_1hot))\n",
    "# Changing learning rate from .05 to .01 increases accuracy significantly"
   ]
  },
  {
   "cell_type": "markdown",
   "metadata": {},
   "source": [
    "c. [15 points] Visualize all the 32 filters in the first convolution layer. Each of shape 12x12x3, they should be viewed as color  images. "
   ]
  },
  {
   "cell_type": "code",
   "execution_count": 50,
   "metadata": {},
   "outputs": [],
   "source": [
    "k.clear_session()"
   ]
  },
  {
   "cell_type": "code",
   "execution_count": null,
   "metadata": {},
   "outputs": [],
   "source": []
  }
 ],
 "metadata": {
  "kernelspec": {
   "display_name": "Python 3",
   "language": "python",
   "name": "python3"
  },
  "language_info": {
   "codemirror_mode": {
    "name": "ipython",
    "version": 3
   },
   "file_extension": ".py",
   "mimetype": "text/x-python",
   "name": "python",
   "nbconvert_exporter": "python",
   "pygments_lexer": "ipython3",
   "version": "3.6.5"
  }
 },
 "nbformat": 4,
 "nbformat_minor": 2
}
